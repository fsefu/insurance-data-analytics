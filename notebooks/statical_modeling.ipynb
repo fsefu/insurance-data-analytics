{
 "cells": [
  {
   "cell_type": "code",
   "execution_count": 1,
   "id": "8ca12c84-f5b2-49c9-a95d-3504819659cf",
   "metadata": {},
   "outputs": [],
   "source": [
    "# Import necessary classes\n",
    "import pandas as pd\n",
    "import sys\n",
    "import os\n",
    "sys.path.append(os.path.abspath(os.path.join(os.getcwd(), '../src')))\n",
    "sys.path.append(os.path.abspath(os.path.join(os.getcwd(), '../scripts')))\n",
    "from data_convertort.convert_to_csv import TxtToCSVConverter\n",
    "from statical_modeling.data_preparation.data_preprocessor import DataPreprocessor\n",
    "from statical_modeling.interpretability.model_interpretability import ModelInterpretability\n",
    "from statical_modeling.modeling.model_builder import ModelBuilder\n",
    "\n",
    "from data_cleaner.data_cleaner import DataCleaner\n"
   ]
  },
  {
   "cell_type": "code",
   "execution_count": 2,
   "id": "63b35353-b56f-44fc-8631-06898e1cb883",
   "metadata": {},
   "outputs": [
    {
     "name": "stdout",
     "output_type": "stream",
     "text": [
      "Output file already exists: ../data/MachineLearningRating_v3.csv. Conversion skipped.\n"
     ]
    }
   ],
   "source": [
    "converter = TxtToCSVConverter('../data/MachineLearningRating_v3.txt', '../data/MachineLearningRating_v3.csv')\n",
    "converter.convert()"
   ]
  },
  {
   "cell_type": "code",
   "execution_count": 3,
   "id": "901612b3-b269-427d-bfcf-7039f1716618",
   "metadata": {},
   "outputs": [
    {
     "name": "stderr",
     "output_type": "stream",
     "text": [
      "C:\\Users\\sefuwan.feysa\\AppData\\Local\\Temp\\ipykernel_23600\\3417818192.py:1: DtypeWarning: Columns (32,37) have mixed types. Specify dtype option on import or set low_memory=False.\n",
      "  df =pd.read_csv('../data/MachineLearningRating_v3.csv')\n"
     ]
    }
   ],
   "source": [
    "\n",
    "df =pd.read_csv('../data/MachineLearningRating_v3.csv')\n"
   ]
  },
  {
   "cell_type": "code",
   "execution_count": 4,
   "id": "2247e993-0907-4ebf-af85-2c2871a549d6",
   "metadata": {},
   "outputs": [],
   "source": [
    "# Clean the data\n",
    "cleaner = DataCleaner(df)\n",
    "cleaner.clean_gender()\n",
    "cleaner.add_margin_column()\n",
    "\n",
    "# Get the cleaned data and display only unique Title and Gender pairs\n",
    "cleaned_df = cleaner.get_cleaned_data()\n"
   ]
  },
  {
   "cell_type": "code",
   "execution_count": 5,
   "id": "b1dd8f5c",
   "metadata": {},
   "outputs": [
    {
     "name": "stdout",
     "output_type": "stream",
     "text": [
      "Dropping columns with all missing values: ['NumberOfVehiclesInFleet']\n"
     ]
    },
    {
     "name": "stderr",
     "output_type": "stream",
     "text": [
      "d:\\tutorial\\10x\\tasks\\task_3\\insurance-data-analytics\\src\\statical_modeling\\data_preparation\\data_preprocessor.py:81: FutureWarning: A value is trying to be set on a copy of a DataFrame or Series through chained assignment using an inplace method.\n",
      "The behavior will change in pandas 3.0. This inplace method will never work because the intermediate object on which we are setting values always behaves as a copy.\n",
      "\n",
      "For example, when doing 'df[col].method(value, inplace=True)', try using 'df.method({col: value}, inplace=True)' or df[col] = df[col].method(value) instead, to perform the operation inplace on the original object.\n",
      "\n",
      "\n",
      "  self.data['Claims_to_Premium'].fillna(0, inplace=True)\n"
     ]
    },
    {
     "name": "stdout",
     "output_type": "stream",
     "text": [
      "Columns with inf values:\n",
      "Index([], dtype='object')\n"
     ]
    }
   ],
   "source": [
    "# # Data Preparation\n",
    "# target_column = 'TotalPremium'\n",
    "# preprocessor = DataPreprocessor(cleaned_df)\n",
    "# preprocessor.handle_missing_data()\n",
    "# preprocessor.feature_engineering()\n",
    "# preprocessor.encode_categorical_data()\n",
    "# X_train, X_test, y_train, y_test = preprocessor.split_data(target_column=target_column)\n",
    "\n",
    "# Preprocessing\n",
    "import numpy as np\n",
    "\n",
    "\n",
    "data_preprocessor = DataPreprocessor(cleaned_df)\n",
    "data_preprocessor.preprocess()  # Complete preprocessing pipeline\n",
    "\n",
    "# Split data into training and test sets\n",
    "X_train, X_test, y_train, y_test = data_preprocessor.split_data(target_column='TotalPremium')\n",
    "# print(\"X_train: \", X_train)\n",
    "\n",
    "# Check which columns contain inf values\n",
    "inf_columns = X_train.columns[np.isinf(X_train).any()]\n",
    "print(\"Columns with inf values:\")\n",
    "print(inf_columns)\n"
   ]
  },
  {
   "cell_type": "code",
   "execution_count": null,
   "id": "47b8bb0c",
   "metadata": {},
   "outputs": [],
   "source": []
  },
  {
   "cell_type": "code",
   "execution_count": 6,
   "id": "ba5e377c",
   "metadata": {},
   "outputs": [],
   "source": [
    "# Model Building\n",
    "model_builder = ModelBuilder(X_train, X_test, y_train, y_test)\n",
    "model_builder.train_linear_regression()\n",
    "model_builder.train_random_forest()\n",
    "model_builder.train_xgboost()"
   ]
  },
  {
   "cell_type": "code",
   "execution_count": null,
   "id": "e427c1f3",
   "metadata": {},
   "outputs": [],
   "source": [
    "# Model Evaluation\n",
    "model_builder.evaluate_models()\n",
    "model_builder.display_evaluation()"
   ]
  },
  {
   "cell_type": "code",
   "execution_count": null,
   "id": "f3bdae73",
   "metadata": {},
   "outputs": [],
   "source": [
    "# Model Interpretability\n",
    "chosen_model = model_builder.models['XGBoost']  # Choose a model for interpretation\n",
    "interpretability = ModelInterpretability(chosen_model, X_test)\n",
    "interpretability.shap_analysis()\n",
    "interpretability.lime_analysis()\n"
   ]
  }
 ],
 "metadata": {
  "kernelspec": {
   "display_name": ".winenv",
   "language": "python",
   "name": "python3"
  },
  "language_info": {
   "codemirror_mode": {
    "name": "ipython",
    "version": 3
   },
   "file_extension": ".py",
   "mimetype": "text/x-python",
   "name": "python",
   "nbconvert_exporter": "python",
   "pygments_lexer": "ipython3",
   "version": "3.12.0"
  }
 },
 "nbformat": 4,
 "nbformat_minor": 5
}
