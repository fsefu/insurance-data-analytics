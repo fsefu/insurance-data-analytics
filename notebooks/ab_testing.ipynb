{
 "cells": [
  {
   "cell_type": "code",
   "execution_count": 13,
   "id": "7bce241b-c877-4765-87e5-20dda71ca544",
   "metadata": {},
   "outputs": [],
   "source": [
    "import pandas as pd\n",
    "import sys\n",
    "import os\n",
    "sys.path.append(os.path.abspath(os.path.join(os.getcwd(), '../src')))\n",
    "sys.path.append(os.path.abspath(os.path.join(os.getcwd(), '../scripts')))\n",
    "from data_convertort.convert_to_csv import TxtToCSVConverter\n",
    "from ab_testing.data_processor import DataProcessor\n",
    "from ab_testing.hypothesis_tester import HypothesisTester\n",
    "from ab_testing.report_generator import ReportGenerator"
   ]
  },
  {
   "cell_type": "code",
   "execution_count": 14,
   "id": "7b8598af-04dc-4199-87bf-8f25099a18a3",
   "metadata": {},
   "outputs": [
    {
     "name": "stdout",
     "output_type": "stream",
     "text": [
      "Output file already exists: ../data/MachineLearningRating_v3.csv. Conversion skipped.\n"
     ]
    }
   ],
   "source": [
    "converter = TxtToCSVConverter('../data/MachineLearningRating_v3.txt', '../data/MachineLearningRating_v3.csv')\n",
    "converter.convert()"
   ]
  },
  {
   "cell_type": "code",
   "execution_count": 15,
   "id": "9b55e4ac-c32b-4882-ae87-a94a4cad0589",
   "metadata": {},
   "outputs": [
    {
     "name": "stderr",
     "output_type": "stream",
     "text": [
      "/tmp/ipykernel_667/3417818192.py:1: DtypeWarning: Columns (32,37) have mixed types. Specify dtype option on import or set low_memory=False.\n",
      "  df =pd.read_csv('../data/MachineLearningRating_v3.csv')\n"
     ]
    }
   ],
   "source": [
    "\n",
    "df =pd.read_csv('../data/MachineLearningRating_v3.csv')\n"
   ]
  },
  {
   "cell_type": "code",
   "execution_count": 16,
   "id": "dbb41060-7647-4196-b7f9-ffe98bab28f2",
   "metadata": {},
   "outputs": [],
   "source": [
    "\n",
    "# Instantiate classes\n",
    "data_processor = DataProcessor(df)\n",
    "hypothesis_tester = HypothesisTester()\n"
   ]
  },
  {
   "cell_type": "code",
   "execution_count": 17,
   "id": "e4a35b2c-5477-4bac-8187-1891017f6728",
   "metadata": {},
   "outputs": [],
   "source": [
    "\n",
    "# Selecting KPI (e.g., TotalClaims)\n",
    "kpi = 'TotalClaims'\n",
    "\n",
    "# Segmentation example: Risk differences across provinces\n",
    "group_a, group_b = data_processor.segment_data(\n",
    "    'Province', \n",
    "    df['Province'] == 'Gauteng', \n",
    "    df['Province'] == 'Western Cape'\n",
    ")\n"
   ]
  },
  {
   "cell_type": "code",
   "execution_count": 18,
   "id": "05d45bdd-25d9-41aa-ae8e-163c06044a9d",
   "metadata": {},
   "outputs": [],
   "source": [
    "\n",
    "# Performing the hypothesis test (T-test or chi-squared)\n",
    "p_value = hypothesis_tester.t_test(group_a, group_b, kpi)\n",
    "\n",
    "# Analyzing results\n",
    "result = hypothesis_tester.analyze_results(p_value)\n",
    "hypothesis_tester.add_result('Risk difference across provinces', p_value, result)\n"
   ]
  },
  {
   "cell_type": "code",
   "execution_count": 19,
   "id": "4165b581-388b-467d-968d-6eae47fb7ae7",
   "metadata": {
    "scrolled": true
   },
   "outputs": [
    {
     "name": "stdout",
     "output_type": "stream",
     "text": [
      "\n",
      "A/B Hypothesis Testing Report\n",
      "========================================\n",
      "Hypothesis: Risk difference across provinces\n",
      "P-Value: 0.0621523145227998\n",
      "Result: Fail to reject the null hypothesis\n",
      "----------------------------------------\n",
      "\n"
     ]
    }
   ],
   "source": [
    "\n",
    "# Generate report\n",
    "report_generator = ReportGenerator(hypothesis_tester.results)\n",
    "print(report_generator.generate_report())\n"
   ]
  }
 ],
 "metadata": {
  "kernelspec": {
   "display_name": "Python (.venv)",
   "language": "python",
   "name": ".venv"
  },
  "language_info": {
   "codemirror_mode": {
    "name": "ipython",
    "version": 3
   },
   "file_extension": ".py",
   "mimetype": "text/x-python",
   "name": "python",
   "nbconvert_exporter": "python",
   "pygments_lexer": "ipython3",
   "version": "3.11.9"
  }
 },
 "nbformat": 4,
 "nbformat_minor": 5
}
