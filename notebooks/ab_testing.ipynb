{
 "cells": [
  {
   "cell_type": "code",
   "execution_count": 1,
   "id": "7bce241b-c877-4765-87e5-20dda71ca544",
   "metadata": {},
   "outputs": [],
   "source": [
    "import pandas as pd\n",
    "import sys\n",
    "import os\n",
    "sys.path.append(os.path.abspath(os.path.join(os.getcwd(), '../src')))\n",
    "sys.path.append(os.path.abspath(os.path.join(os.getcwd(), '../scripts')))\n",
    "from data_convertort.convert_to_csv import TxtToCSVConverter\n",
    "from ab_testing.data_processor import DataProcessor\n",
    "from ab_testing.hypothesis_tester import HypothesisTester\n",
    "from ab_testing.report_generator import ReportGenerator\n",
    "from data_cleaner.data_cleaner import DataCleaner"
   ]
  },
  {
   "cell_type": "code",
   "execution_count": 2,
   "id": "7b8598af-04dc-4199-87bf-8f25099a18a3",
   "metadata": {},
   "outputs": [
    {
     "name": "stdout",
     "output_type": "stream",
     "text": [
      "Output file already exists: ../data/MachineLearningRating_v3.csv. Conversion skipped.\n"
     ]
    }
   ],
   "source": [
    "converter = TxtToCSVConverter('../data/MachineLearningRating_v3.txt', '../data/MachineLearningRating_v3.csv')\n",
    "converter.convert()"
   ]
  },
  {
   "cell_type": "code",
   "execution_count": 3,
   "id": "9b55e4ac-c32b-4882-ae87-a94a4cad0589",
   "metadata": {},
   "outputs": [
    {
     "name": "stderr",
     "output_type": "stream",
     "text": [
      "C:\\Users\\sefuwan.feysa\\AppData\\Local\\Temp\\ipykernel_28508\\3417818192.py:1: DtypeWarning: Columns (32,37) have mixed types. Specify dtype option on import or set low_memory=False.\n",
      "  df =pd.read_csv('../data/MachineLearningRating_v3.csv')\n"
     ]
    }
   ],
   "source": [
    "\n",
    "df =pd.read_csv('../data/MachineLearningRating_v3.csv')\n"
   ]
  },
  {
   "cell_type": "code",
   "execution_count": 9,
   "id": "52ed1a09-c24c-42a5-8f95-eedb3d9d7ad5",
   "metadata": {},
   "outputs": [
    {
     "data": {
      "text/html": [
       "<div>\n",
       "<style scoped>\n",
       "    .dataframe tbody tr th:only-of-type {\n",
       "        vertical-align: middle;\n",
       "    }\n",
       "\n",
       "    .dataframe tbody tr th {\n",
       "        vertical-align: top;\n",
       "    }\n",
       "\n",
       "    .dataframe thead th {\n",
       "        text-align: right;\n",
       "    }\n",
       "</style>\n",
       "<table border=\"1\" class=\"dataframe\">\n",
       "  <thead>\n",
       "    <tr style=\"text-align: right;\">\n",
       "      <th></th>\n",
       "      <th>Title</th>\n",
       "      <th>Gender</th>\n",
       "    </tr>\n",
       "  </thead>\n",
       "  <tbody>\n",
       "    <tr>\n",
       "      <th>0</th>\n",
       "      <td>Mr</td>\n",
       "      <td>1</td>\n",
       "    </tr>\n",
       "    <tr>\n",
       "      <th>478</th>\n",
       "      <td>Dr</td>\n",
       "      <td>1</td>\n",
       "    </tr>\n",
       "    <tr>\n",
       "      <th>1034</th>\n",
       "      <td>Miss</td>\n",
       "      <td>0</td>\n",
       "    </tr>\n",
       "    <tr>\n",
       "      <th>699059</th>\n",
       "      <td>Mrs</td>\n",
       "      <td>0</td>\n",
       "    </tr>\n",
       "    <tr>\n",
       "      <th>749286</th>\n",
       "      <td>Ms</td>\n",
       "      <td>0</td>\n",
       "    </tr>\n",
       "  </tbody>\n",
       "</table>\n",
       "</div>"
      ],
      "text/plain": [
       "       Title  Gender\n",
       "0         Mr       1\n",
       "478       Dr       1\n",
       "1034    Miss       0\n",
       "699059   Mrs       0\n",
       "749286    Ms       0"
      ]
     },
     "execution_count": 9,
     "metadata": {},
     "output_type": "execute_result"
    }
   ],
   "source": [
    "# Clean the data\n",
    "cleaner = DataCleaner(df)\n",
    "cleaner.clean_gender()\n",
    "cleaner.add_margin_column()\n",
    "\n",
    "# Get the cleaned data and display only unique Title and Gender pairs\n",
    "cleaned_df = cleaner.get_cleaned_data()\n",
    "\n",
    "# Display the unique values\n",
    "cleaned_df[['Title', 'Gender']].drop_duplicates().head(20)\n"
   ]
  },
  {
   "cell_type": "code",
   "execution_count": 10,
   "id": "dbb41060-7647-4196-b7f9-ffe98bab28f2",
   "metadata": {},
   "outputs": [],
   "source": [
    "\n",
    "# Instantiate classes\n",
    "data_processor = DataProcessor(cleaned_df)\n",
    "hypothesis_tester = HypothesisTester()\n"
   ]
  },
  {
   "cell_type": "code",
   "execution_count": 11,
   "id": "e4a35b2c-5477-4bac-8187-1891017f6728",
   "metadata": {},
   "outputs": [],
   "source": [
    "# Null Hypothesis 1: Risk difference across provinces\n",
    "group_a_prov, group_b_prov = data_processor.segment_data(\n",
    "    'Province', \n",
    "    cleaned_df['Province'] == 'Gauteng', \n",
    "    cleaned_df['Province'] == 'Western Cape'\n",
    ")\n",
    "p_value_prov = hypothesis_tester.t_test(group_a_prov, group_b_prov, 'TotalClaims')\n",
    "result_prov = hypothesis_tester.analyze_results(p_value_prov)\n",
    "hypothesis_tester.add_result('Risk difference across provinces', p_value_prov, result_prov)\n"
   ]
  },
  {
   "cell_type": "code",
   "execution_count": 12,
   "id": "05d45bdd-25d9-41aa-ae8e-163c06044a9d",
   "metadata": {},
   "outputs": [],
   "source": [
    "# Null Hypothesis 2: Risk difference between zip codes\n",
    "group_a_zip, group_b_zip = data_processor.segment_data(\n",
    "    'PostalCode', \n",
    "    cleaned_df['PostalCode'] == 1000, \n",
    "    cleaned_df['PostalCode'] == 2000\n",
    ")\n",
    "p_value_zip = hypothesis_tester.t_test(group_a_zip, group_b_zip, 'TotalClaims')\n",
    "result_zip = hypothesis_tester.analyze_results(p_value_zip)\n",
    "hypothesis_tester.add_result('Risk difference across zip codes', p_value_zip, result_zip)"
   ]
  },
  {
   "cell_type": "code",
   "execution_count": 13,
   "id": "4165b581-388b-467d-968d-6eae47fb7ae7",
   "metadata": {
    "scrolled": true
   },
   "outputs": [],
   "source": [
    "# Null Hypothesis 3: Margin difference between zip codes\n",
    "group_a_margin, group_b_margin = data_processor.segment_data(\n",
    "    'PostalCode', \n",
    "    cleaned_df['PostalCode'] == 1000, \n",
    "    cleaned_df['PostalCode'] == 2000\n",
    ")\n",
    "# Assuming we have a 'Margin' column: Margin = TotalPremium - TotalClaims\n",
    "# df['Margin'] = df['TotalPremium'] - df['TotalClaims']\n",
    "p_value_margin = hypothesis_tester.t_test(group_a_margin, group_b_margin, 'Margin')\n",
    "result_margin = hypothesis_tester.analyze_results(p_value_margin)\n",
    "hypothesis_tester.add_result('Margin difference between zip codes', p_value_margin, result_margin)"
   ]
  },
  {
   "cell_type": "code",
   "execution_count": 14,
   "id": "387a611c-a349-4093-8cb2-149dfd8687e8",
   "metadata": {},
   "outputs": [],
   "source": [
    "# Null Hypothesis 4: Risk difference between men and women\n",
    "group_a_gender, group_b_gender = data_processor.segment_data(\n",
    "    'Gender', \n",
    "    cleaned_df['Gender'] == 1, \n",
    "    cleaned_df['Gender'] == 0\n",
    ")\n",
    "p_value_gender = hypothesis_tester.t_test(group_a_gender, group_b_gender, 'TotalClaims')\n",
    "result_gender = hypothesis_tester.analyze_results(p_value_gender)\n",
    "hypothesis_tester.add_result('Risk difference between men and women', p_value_gender, result_gender)\n"
   ]
  },
  {
   "cell_type": "code",
   "execution_count": 15,
   "id": "1bb6169e-209b-46fd-a284-873520371856",
   "metadata": {},
   "outputs": [
    {
     "name": "stdout",
     "output_type": "stream",
     "text": [
      "\n",
      "A/B Hypothesis Testing Report\n",
      "========================================\n",
      "Hypothesis: Risk difference across provinces\n",
      "P-Value: 0.0621523145227998\n",
      "Result: Fail to reject the null hypothesis\n",
      "----------------------------------------\n",
      "Hypothesis: Risk difference across zip codes\n",
      "P-Value: 1.0871786315077791e-36\n",
      "Result: Reject the null hypothesis\n",
      "----------------------------------------\n",
      "Hypothesis: Margin difference between zip codes\n",
      "P-Value: 7.662076097924192e-12\n",
      "Result: Reject the null hypothesis\n",
      "----------------------------------------\n",
      "Hypothesis: Risk difference between men and women\n",
      "P-Value: 0.020783336597980866\n",
      "Result: Reject the null hypothesis\n",
      "----------------------------------------\n",
      "\n"
     ]
    }
   ],
   "source": [
    "# Generate report\n",
    "report_generator = ReportGenerator(hypothesis_tester.results)\n",
    "print(report_generator.generate_report())"
   ]
  },
  {
   "cell_type": "code",
   "execution_count": null,
   "id": "ff40ca28-6920-4bc9-bdde-308a8bc4db4e",
   "metadata": {},
   "outputs": [],
   "source": []
  }
 ],
 "metadata": {
  "kernelspec": {
   "display_name": "Python 3 (ipykernel)",
   "language": "python",
   "name": "python3"
  },
  "language_info": {
   "codemirror_mode": {
    "name": "ipython",
    "version": 3
   },
   "file_extension": ".py",
   "mimetype": "text/x-python",
   "name": "python",
   "nbconvert_exporter": "python",
   "pygments_lexer": "ipython3",
   "version": "3.11.9"
  }
 },
 "nbformat": 4,
 "nbformat_minor": 5
}
