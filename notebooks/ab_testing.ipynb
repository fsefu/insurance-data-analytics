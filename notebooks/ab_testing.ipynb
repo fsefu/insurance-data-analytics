{
 "cells": [
  {
   "cell_type": "code",
   "execution_count": 1,
   "id": "7bce241b-c877-4765-87e5-20dda71ca544",
   "metadata": {},
   "outputs": [],
   "source": [
    "import pandas as pd\n",
    "import sys\n",
    "import os\n",
    "sys.path.append(os.path.abspath(os.path.join(os.getcwd(), '../src')))\n",
    "sys.path.append(os.path.abspath(os.path.join(os.getcwd(), '../scripts')))\n",
    "from data_convertort.convert_to_csv import TxtToCSVConverter\n",
    "from ab_testing.data_processor import DataProcessor\n",
    "from ab_testing.hypothesis_tester import HypothesisTester\n",
    "from ab_testing.report_generator import ReportGenerator\n",
    "from data_cleaner.data_cleaner import DataCleaner"
   ]
  },
  {
   "cell_type": "code",
   "execution_count": 2,
   "id": "7b8598af-04dc-4199-87bf-8f25099a18a3",
   "metadata": {},
   "outputs": [
    {
     "name": "stdout",
     "output_type": "stream",
     "text": [
      "Output file already exists: ../data/MachineLearningRating_v3.csv. Conversion skipped.\n"
     ]
    }
   ],
   "source": [
    "converter = TxtToCSVConverter('../data/MachineLearningRating_v3.txt', '../data/MachineLearningRating_v3.csv')\n",
    "converter.convert()"
   ]
  },
  {
   "cell_type": "code",
   "execution_count": 3,
   "id": "9b55e4ac-c32b-4882-ae87-a94a4cad0589",
   "metadata": {},
   "outputs": [
    {
     "name": "stderr",
     "output_type": "stream",
     "text": [
      "C:\\Users\\sefuwan.feysa\\AppData\\Local\\Temp\\ipykernel_28508\\3417818192.py:1: DtypeWarning: Columns (32,37) have mixed types. Specify dtype option on import or set low_memory=False.\n",
      "  df =pd.read_csv('../data/MachineLearningRating_v3.csv')\n"
     ]
    }
   ],
   "source": [
    "\n",
    "df =pd.read_csv('../data/MachineLearningRating_v3.csv')\n"
   ]
  },
  {
   "cell_type": "code",
   "execution_count": 4,
   "id": "52ed1a09-c24c-42a5-8f95-eedb3d9d7ad5",
   "metadata": {},
   "outputs": [
    {
     "data": {
      "text/html": [
       "<div>\n",
       "<style scoped>\n",
       "    .dataframe tbody tr th:only-of-type {\n",
       "        vertical-align: middle;\n",
       "    }\n",
       "\n",
       "    .dataframe tbody tr th {\n",
       "        vertical-align: top;\n",
       "    }\n",
       "\n",
       "    .dataframe thead th {\n",
       "        text-align: right;\n",
       "    }\n",
       "</style>\n",
       "<table border=\"1\" class=\"dataframe\">\n",
       "  <thead>\n",
       "    <tr style=\"text-align: right;\">\n",
       "      <th></th>\n",
       "      <th>Title</th>\n",
       "      <th>Gender</th>\n",
       "    </tr>\n",
       "  </thead>\n",
       "  <tbody>\n",
       "    <tr>\n",
       "      <th>0</th>\n",
       "      <td>Mr</td>\n",
       "      <td>1</td>\n",
       "    </tr>\n",
       "    <tr>\n",
       "      <th>478</th>\n",
       "      <td>Dr</td>\n",
       "      <td>1</td>\n",
       "    </tr>\n",
       "    <tr>\n",
       "      <th>1034</th>\n",
       "      <td>Miss</td>\n",
       "      <td>0</td>\n",
       "    </tr>\n",
       "    <tr>\n",
       "      <th>699059</th>\n",
       "      <td>Mrs</td>\n",
       "      <td>0</td>\n",
       "    </tr>\n",
       "    <tr>\n",
       "      <th>749286</th>\n",
       "      <td>Ms</td>\n",
       "      <td>0</td>\n",
       "    </tr>\n",
       "  </tbody>\n",
       "</table>\n",
       "</div>"
      ],
      "text/plain": [
       "       Title  Gender\n",
       "0         Mr       1\n",
       "478       Dr       1\n",
       "1034    Miss       0\n",
       "699059   Mrs       0\n",
       "749286    Ms       0"
      ]
     },
     "execution_count": 4,
     "metadata": {},
     "output_type": "execute_result"
    }
   ],
   "source": [
    "# Clean the data\n",
    "cleaner = DataCleaner(df)\n",
    "cleaner.clean_gender()\n",
    "cleaner.add_margin_column()\n",
    "\n",
    "# Get the cleaned data and display only unique Title and Gender pairs\n",
    "cleaned_df = cleaner.get_cleaned_data()\n",
    "\n",
    "# Display the unique values\n",
    "cleaned_df[['Title', 'Gender']].drop_duplicates().head(20)\n"
   ]
  },
  {
   "cell_type": "code",
   "execution_count": 5,
   "id": "dbb41060-7647-4196-b7f9-ffe98bab28f2",
   "metadata": {},
   "outputs": [],
   "source": [
    "\n",
    "# Instantiate classes\n",
    "data_processor = DataProcessor(cleaned_df)\n",
    "hypothesis_tester = HypothesisTester()\n"
   ]
  },
  {
   "cell_type": "code",
   "execution_count": 6,
   "id": "e4a35b2c-5477-4bac-8187-1891017f6728",
   "metadata": {},
   "outputs": [],
   "source": [
    "# Null Hypothesis 1: Risk difference across provinces\n",
    "group_a_prov, group_b_prov = data_processor.segment_data(\n",
    "    'Province', \n",
    "    cleaned_df['Province'] == 'Gauteng', \n",
    "    cleaned_df['Province'] == 'Western Cape'\n",
    ")\n",
    "p_value_prov = hypothesis_tester.t_test(group_a_prov, group_b_prov, 'TotalClaims')\n",
    "result_prov = hypothesis_tester.analyze_results(p_value_prov)\n",
    "hypothesis_tester.add_result('Risk difference across provinces', p_value_prov, result_prov)\n"
   ]
  },
  {
   "cell_type": "code",
   "execution_count": 7,
   "id": "05d45bdd-25d9-41aa-ae8e-163c06044a9d",
   "metadata": {},
   "outputs": [],
   "source": [
    "# Null Hypothesis 2: Risk difference between zip codes\n",
    "group_a_zip, group_b_zip = data_processor.segment_data(\n",
    "    'PostalCode', \n",
    "    cleaned_df['PostalCode'] == 1000, \n",
    "    cleaned_df['PostalCode'] == 2000\n",
    ")\n",
    "p_value_zip = hypothesis_tester.t_test(group_a_zip, group_b_zip, 'TotalClaims')\n",
    "result_zip = hypothesis_tester.analyze_results(p_value_zip)\n",
    "hypothesis_tester.add_result('Risk difference across zip codes', p_value_zip, result_zip)"
   ]
  },
  {
   "cell_type": "code",
   "execution_count": 8,
   "id": "4165b581-388b-467d-968d-6eae47fb7ae7",
   "metadata": {
    "scrolled": true
   },
   "outputs": [
    {
     "ename": "KeyError",
     "evalue": "'Margin'",
     "output_type": "error",
     "traceback": [
      "\u001b[1;31m---------------------------------------------------------------------------\u001b[0m",
      "\u001b[1;31mKeyError\u001b[0m                                  Traceback (most recent call last)",
      "File \u001b[1;32md:\\tutorial\\10x\\tasks\\task_3\\insurance-data-analytics\\.winenv\\Lib\\site-packages\\pandas\\core\\indexes\\base.py:3805\u001b[0m, in \u001b[0;36mIndex.get_loc\u001b[1;34m(self, key)\u001b[0m\n\u001b[0;32m   3804\u001b[0m \u001b[38;5;28;01mtry\u001b[39;00m:\n\u001b[1;32m-> 3805\u001b[0m     \u001b[38;5;28;01mreturn\u001b[39;00m \u001b[38;5;28;43mself\u001b[39;49m\u001b[38;5;241;43m.\u001b[39;49m\u001b[43m_engine\u001b[49m\u001b[38;5;241;43m.\u001b[39;49m\u001b[43mget_loc\u001b[49m\u001b[43m(\u001b[49m\u001b[43mcasted_key\u001b[49m\u001b[43m)\u001b[49m\n\u001b[0;32m   3806\u001b[0m \u001b[38;5;28;01mexcept\u001b[39;00m \u001b[38;5;167;01mKeyError\u001b[39;00m \u001b[38;5;28;01mas\u001b[39;00m err:\n",
      "File \u001b[1;32mindex.pyx:167\u001b[0m, in \u001b[0;36mpandas._libs.index.IndexEngine.get_loc\u001b[1;34m()\u001b[0m\n",
      "File \u001b[1;32mindex.pyx:196\u001b[0m, in \u001b[0;36mpandas._libs.index.IndexEngine.get_loc\u001b[1;34m()\u001b[0m\n",
      "File \u001b[1;32mpandas\\\\_libs\\\\hashtable_class_helper.pxi:7081\u001b[0m, in \u001b[0;36mpandas._libs.hashtable.PyObjectHashTable.get_item\u001b[1;34m()\u001b[0m\n",
      "File \u001b[1;32mpandas\\\\_libs\\\\hashtable_class_helper.pxi:7089\u001b[0m, in \u001b[0;36mpandas._libs.hashtable.PyObjectHashTable.get_item\u001b[1;34m()\u001b[0m\n",
      "\u001b[1;31mKeyError\u001b[0m: 'Margin'",
      "\nThe above exception was the direct cause of the following exception:\n",
      "\u001b[1;31mKeyError\u001b[0m                                  Traceback (most recent call last)",
      "Cell \u001b[1;32mIn[8], line 9\u001b[0m\n\u001b[0;32m      7\u001b[0m \u001b[38;5;66;03m# Assuming we have a 'Margin' column: Margin = TotalPremium - TotalClaims\u001b[39;00m\n\u001b[0;32m      8\u001b[0m df[\u001b[38;5;124m'\u001b[39m\u001b[38;5;124mMargin\u001b[39m\u001b[38;5;124m'\u001b[39m] \u001b[38;5;241m=\u001b[39m df[\u001b[38;5;124m'\u001b[39m\u001b[38;5;124mTotalPremium\u001b[39m\u001b[38;5;124m'\u001b[39m] \u001b[38;5;241m-\u001b[39m df[\u001b[38;5;124m'\u001b[39m\u001b[38;5;124mTotalClaims\u001b[39m\u001b[38;5;124m'\u001b[39m]\n\u001b[1;32m----> 9\u001b[0m p_value_margin \u001b[38;5;241m=\u001b[39m \u001b[43mhypothesis_tester\u001b[49m\u001b[38;5;241;43m.\u001b[39;49m\u001b[43mt_test\u001b[49m\u001b[43m(\u001b[49m\u001b[43mgroup_a_margin\u001b[49m\u001b[43m,\u001b[49m\u001b[43m \u001b[49m\u001b[43mgroup_b_margin\u001b[49m\u001b[43m,\u001b[49m\u001b[43m \u001b[49m\u001b[38;5;124;43m'\u001b[39;49m\u001b[38;5;124;43mMargin\u001b[39;49m\u001b[38;5;124;43m'\u001b[39;49m\u001b[43m)\u001b[49m\n\u001b[0;32m     10\u001b[0m result_margin \u001b[38;5;241m=\u001b[39m hypothesis_tester\u001b[38;5;241m.\u001b[39manalyze_results(p_value_margin)\n\u001b[0;32m     11\u001b[0m hypothesis_tester\u001b[38;5;241m.\u001b[39madd_result(\u001b[38;5;124m'\u001b[39m\u001b[38;5;124mMargin difference between zip codes\u001b[39m\u001b[38;5;124m'\u001b[39m, p_value_margin, result_margin)\n",
      "File \u001b[1;32md:\\tutorial\\10x\\tasks\\task_3\\insurance-data-analytics\\src\\ab_testing\\hypothesis_tester.py:18\u001b[0m, in \u001b[0;36mHypothesisTester.t_test\u001b[1;34m(self, group_a, group_b, kpi)\u001b[0m\n\u001b[0;32m     16\u001b[0m \u001b[38;5;28;01mdef\u001b[39;00m \u001b[38;5;21mt_test\u001b[39m(\u001b[38;5;28mself\u001b[39m, group_a, group_b, kpi):\n\u001b[0;32m     17\u001b[0m \u001b[38;5;250m    \u001b[39m\u001b[38;5;124;03m\"\"\"Performs a t-test for numerical features like claims or premium.\"\"\"\u001b[39;00m\n\u001b[1;32m---> 18\u001b[0m     stat, p_value \u001b[38;5;241m=\u001b[39m ttest_ind(\u001b[43mgroup_a\u001b[49m\u001b[43m[\u001b[49m\u001b[43mkpi\u001b[49m\u001b[43m]\u001b[49m, group_b[kpi], equal_var\u001b[38;5;241m=\u001b[39m\u001b[38;5;28;01mFalse\u001b[39;00m)\n\u001b[0;32m     19\u001b[0m     \u001b[38;5;28;01mreturn\u001b[39;00m p_value\n",
      "File \u001b[1;32md:\\tutorial\\10x\\tasks\\task_3\\insurance-data-analytics\\.winenv\\Lib\\site-packages\\pandas\\core\\frame.py:4102\u001b[0m, in \u001b[0;36mDataFrame.__getitem__\u001b[1;34m(self, key)\u001b[0m\n\u001b[0;32m   4100\u001b[0m \u001b[38;5;28;01mif\u001b[39;00m \u001b[38;5;28mself\u001b[39m\u001b[38;5;241m.\u001b[39mcolumns\u001b[38;5;241m.\u001b[39mnlevels \u001b[38;5;241m>\u001b[39m \u001b[38;5;241m1\u001b[39m:\n\u001b[0;32m   4101\u001b[0m     \u001b[38;5;28;01mreturn\u001b[39;00m \u001b[38;5;28mself\u001b[39m\u001b[38;5;241m.\u001b[39m_getitem_multilevel(key)\n\u001b[1;32m-> 4102\u001b[0m indexer \u001b[38;5;241m=\u001b[39m \u001b[38;5;28;43mself\u001b[39;49m\u001b[38;5;241;43m.\u001b[39;49m\u001b[43mcolumns\u001b[49m\u001b[38;5;241;43m.\u001b[39;49m\u001b[43mget_loc\u001b[49m\u001b[43m(\u001b[49m\u001b[43mkey\u001b[49m\u001b[43m)\u001b[49m\n\u001b[0;32m   4103\u001b[0m \u001b[38;5;28;01mif\u001b[39;00m is_integer(indexer):\n\u001b[0;32m   4104\u001b[0m     indexer \u001b[38;5;241m=\u001b[39m [indexer]\n",
      "File \u001b[1;32md:\\tutorial\\10x\\tasks\\task_3\\insurance-data-analytics\\.winenv\\Lib\\site-packages\\pandas\\core\\indexes\\base.py:3812\u001b[0m, in \u001b[0;36mIndex.get_loc\u001b[1;34m(self, key)\u001b[0m\n\u001b[0;32m   3807\u001b[0m     \u001b[38;5;28;01mif\u001b[39;00m \u001b[38;5;28misinstance\u001b[39m(casted_key, \u001b[38;5;28mslice\u001b[39m) \u001b[38;5;129;01mor\u001b[39;00m (\n\u001b[0;32m   3808\u001b[0m         \u001b[38;5;28misinstance\u001b[39m(casted_key, abc\u001b[38;5;241m.\u001b[39mIterable)\n\u001b[0;32m   3809\u001b[0m         \u001b[38;5;129;01mand\u001b[39;00m \u001b[38;5;28many\u001b[39m(\u001b[38;5;28misinstance\u001b[39m(x, \u001b[38;5;28mslice\u001b[39m) \u001b[38;5;28;01mfor\u001b[39;00m x \u001b[38;5;129;01min\u001b[39;00m casted_key)\n\u001b[0;32m   3810\u001b[0m     ):\n\u001b[0;32m   3811\u001b[0m         \u001b[38;5;28;01mraise\u001b[39;00m InvalidIndexError(key)\n\u001b[1;32m-> 3812\u001b[0m     \u001b[38;5;28;01mraise\u001b[39;00m \u001b[38;5;167;01mKeyError\u001b[39;00m(key) \u001b[38;5;28;01mfrom\u001b[39;00m \u001b[38;5;21;01merr\u001b[39;00m\n\u001b[0;32m   3813\u001b[0m \u001b[38;5;28;01mexcept\u001b[39;00m \u001b[38;5;167;01mTypeError\u001b[39;00m:\n\u001b[0;32m   3814\u001b[0m     \u001b[38;5;66;03m# If we have a listlike key, _check_indexing_error will raise\u001b[39;00m\n\u001b[0;32m   3815\u001b[0m     \u001b[38;5;66;03m#  InvalidIndexError. Otherwise we fall through and re-raise\u001b[39;00m\n\u001b[0;32m   3816\u001b[0m     \u001b[38;5;66;03m#  the TypeError.\u001b[39;00m\n\u001b[0;32m   3817\u001b[0m     \u001b[38;5;28mself\u001b[39m\u001b[38;5;241m.\u001b[39m_check_indexing_error(key)\n",
      "\u001b[1;31mKeyError\u001b[0m: 'Margin'"
     ]
    }
   ],
   "source": [
    "# Null Hypothesis 3: Margin difference between zip codes\n",
    "group_a_margin, group_b_margin = data_processor.segment_data(\n",
    "    'PostalCode', \n",
    "    cleaned_df['PostalCode'] == 1000, \n",
    "    cleaned_df['PostalCode'] == 2000\n",
    ")\n",
    "# Assuming we have a 'Margin' column: Margin = TotalPremium - TotalClaims\n",
    "# df['Margin'] = df['TotalPremium'] - df['TotalClaims']\n",
    "p_value_margin = hypothesis_tester.t_test(group_a_margin, group_b_margin, 'Margin')\n",
    "result_margin = hypothesis_tester.analyze_results(p_value_margin)\n",
    "hypothesis_tester.add_result('Margin difference between zip codes', p_value_margin, result_margin)"
   ]
  },
  {
   "cell_type": "code",
   "execution_count": 20,
   "id": "387a611c-a349-4093-8cb2-149dfd8687e8",
   "metadata": {},
   "outputs": [],
   "source": [
    "# Null Hypothesis 4: Risk difference between men and women\n",
    "group_a_gender, group_b_gender = data_processor.segment_data(\n",
    "    'Gender', \n",
    "    cleaned_df['Gender'] == 1, \n",
    "    cleaned_df['Gender'] == 0\n",
    ")\n",
    "p_value_gender = hypothesis_tester.t_test(group_a_gender, group_b_gender, 'TotalClaims')\n",
    "result_gender = hypothesis_tester.analyze_results(p_value_gender)\n",
    "hypothesis_tester.add_result('Risk difference between men and women', p_value_gender, result_gender)\n"
   ]
  },
  {
   "cell_type": "code",
   "execution_count": null,
   "id": "1bb6169e-209b-46fd-a284-873520371856",
   "metadata": {},
   "outputs": [],
   "source": [
    "# Generate report\n",
    "report_generator = ReportGenerator(hypothesis_tester.results)\n",
    "print(report_generator.generate_report())"
   ]
  },
  {
   "cell_type": "code",
   "execution_count": null,
   "id": "ff40ca28-6920-4bc9-bdde-308a8bc4db4e",
   "metadata": {},
   "outputs": [],
   "source": []
  }
 ],
 "metadata": {
  "kernelspec": {
   "display_name": ".winenv",
   "language": "python",
   "name": "python3"
  },
  "language_info": {
   "codemirror_mode": {
    "name": "ipython",
    "version": 3
   },
   "file_extension": ".py",
   "mimetype": "text/x-python",
   "name": "python",
   "nbconvert_exporter": "python",
   "pygments_lexer": "ipython3",
   "version": "3.12.0"
  }
 },
 "nbformat": 4,
 "nbformat_minor": 5
}
